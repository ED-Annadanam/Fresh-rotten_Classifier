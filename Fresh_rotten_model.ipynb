{
  "nbformat": 4,
  "nbformat_minor": 0,
  "metadata": {
    "colab": {
      "name": "Fresh/rotten model",
      "provenance": [],
      "collapsed_sections": [],
      "authorship_tag": "ABX9TyNvaqNkaruCoR2TfF/uBvCy",
      "include_colab_link": true
    },
    "kernelspec": {
      "name": "python3",
      "display_name": "Python 3"
    },
    "language_info": {
      "name": "python"
    },
    "accelerator": "TPU"
  },
  "cells": [
    {
      "cell_type": "markdown",
      "metadata": {
        "id": "view-in-github",
        "colab_type": "text"
      },
      "source": [
        "<a href=\"https://colab.research.google.com/github/Shreyasvaidya/Mlpart/blob/master/Fresh_rotten_model.ipynb\" target=\"_parent\"><img src=\"https://colab.research.google.com/assets/colab-badge.svg\" alt=\"Open In Colab\"/></a>"
      ]
    },
    {
      "cell_type": "code",
      "execution_count": null,
      "metadata": {
        "id": "8eDH2ps11kxz"
      },
      "outputs": [],
      "source": [
        "import tensorflow as tf\n",
        "from tensorflow.keras.models import Sequential\n",
        "from tensorflow.keras.layers import Dense,Flatten,Activation,Conv2D,MaxPooling2D\n",
        "import pickle\n",
        "import numpy as np"
      ]
    },
    {
      "cell_type": "markdown",
      "source": [
        "importing libraries"
      ],
      "metadata": {
        "id": "VTJWaVRV2BHc"
      }
    },
    {
      "cell_type": "code",
      "source": [
        "\n",
        "from google.colab import drive\n",
        "\n",
        "drive.mount('/content/drive',force_remount=True)\n",
        "DATA_PATH = \"/content/drive/My Drive/Colab Notebooks\"\n",
        "infile = open(DATA_PATH+'/X.pickle','rb')\n",
        "X= pickle.load(infile)\n"
      ],
      "metadata": {
        "colab": {
          "base_uri": "https://localhost:8080/"
        },
        "id": "0x1bgULY2DNp",
        "outputId": "3c82fdab-b67f-4e9c-b6a7-05cab39e89ca"
      },
      "execution_count": null,
      "outputs": [
        {
          "output_type": "stream",
          "name": "stdout",
          "text": [
            "Mounted at /content/drive\n"
          ]
        }
      ]
    },
    {
      "cell_type": "markdown",
      "source": [
        "importing X.pickle we created in previous notebook"
      ],
      "metadata": {
        "id": "DOnHgn7e2m46"
      }
    },
    {
      "cell_type": "code",
      "source": [
        "infile = open(DATA_PATH+'/y.pickle','rb')  \n",
        "y= pickle.load(infile)"
      ],
      "metadata": {
        "id": "uPA6iN472uEM"
      },
      "execution_count": null,
      "outputs": []
    },
    {
      "cell_type": "markdown",
      "source": [
        "importing y"
      ],
      "metadata": {
        "id": "m7qgi4IV2zTw"
      }
    },
    {
      "cell_type": "code",
      "source": [
        "X=X/255"
      ],
      "metadata": {
        "id": "DrBNM9Gb21rX"
      },
      "execution_count": null,
      "outputs": []
    },
    {
      "cell_type": "markdown",
      "source": [
        "normalising X for easier training (since values in X are b/w 0 to 255 so we can do this"
      ],
      "metadata": {
        "id": "XRkQ4p-d23Hv"
      }
    },
    {
      "cell_type": "code",
      "source": [
        "model=Sequential()\n",
        "\n",
        "model.add(Conv2D(256, (3, 3), input_shape=X.shape[1:]))\n",
        "model.add(Activation(\"relu\"))\n",
        "model.add(MaxPooling2D(pool_size=(2,2)))\n",
        "model.add(Conv2D(256, (3, 3)))\n",
        "model.add(Activation(\"relu\"))\n",
        "model.add(MaxPooling2D(pool_size=(2,2)))\n",
        "model.add(Flatten())\n",
        "model.add(Dense(64))\n",
        "model.add(Activation(\"relu\"))\n",
        "model.add(Dense(12))\n",
        "model.add(Activation('softmax'))\n"
      ],
      "metadata": {
        "id": "c4xUKIMk3CqB"
      },
      "execution_count": null,
      "outputs": []
    },
    {
      "cell_type": "markdown",
      "source": [
        "Adding layers"
      ],
      "metadata": {
        "id": "OD1-skTi5Ee7"
      }
    },
    {
      "cell_type": "code",
      "source": [
        "model.compile(optimizer=\"adam\",\n",
        "              loss=\"sparse_categorical_crossentropy\",\n",
        "              metrics=['accuracy'])"
      ],
      "metadata": {
        "id": "iZchK2-Q5CUc"
      },
      "execution_count": null,
      "outputs": []
    },
    {
      "cell_type": "code",
      "source": [
        "X=np.array(X)\n",
        "y=np.array(y)\n",
        "\n",
        "weights={0:2,1:2,2:10,3:3,4:2,5:3,6:1.366,7:2,8:10,9:3.5,10:2,11:3}"
      ],
      "metadata": {
        "id": "9qTniGqL6OZ5"
      },
      "execution_count": null,
      "outputs": []
    },
    {
      "cell_type": "code",
      "source": [
        "#print(max(y))\n",
        "y-=1"
      ],
      "metadata": {
        "id": "5LuuVKtrCbqV"
      },
      "execution_count": null,
      "outputs": []
    },
    {
      "cell_type": "markdown",
      "source": [
        "y can be from 0 to 11"
      ],
      "metadata": {
        "id": "tTorThrJBdPO"
      }
    },
    {
      "cell_type": "code",
      "source": [
        "model.fit(X,y,batch_size=30,epochs=4,validation_split=0.1,class_weight=weights)"
      ],
      "metadata": {
        "colab": {
          "base_uri": "https://localhost:8080/"
        },
        "id": "ycwYWbXn5MWw",
        "outputId": "26c1c51a-395c-4055-84e8-31d8f673ab44"
      },
      "execution_count": null,
      "outputs": [
        {
          "output_type": "stream",
          "name": "stdout",
          "text": [
            "Epoch 1/4\n",
            "441/441 [==============================] - 424s 960ms/step - loss: 2.0166 - accuracy: 0.7073 - val_loss: 0.6209 - val_accuracy: 0.7686\n",
            "Epoch 2/4\n",
            "441/441 [==============================] - 424s 962ms/step - loss: 0.7141 - accuracy: 0.8803 - val_loss: 0.3024 - val_accuracy: 0.8890\n",
            "Epoch 3/4\n",
            "441/441 [==============================] - 455s 1s/step - loss: 0.4981 - accuracy: 0.9127 - val_loss: 0.2673 - val_accuracy: 0.9183\n",
            "Epoch 4/4\n",
            "441/441 [==============================] - 452s 1s/step - loss: 0.3778 - accuracy: 0.9314 - val_loss: 0.2655 - val_accuracy: 0.9135\n"
          ]
        },
        {
          "output_type": "execute_result",
          "data": {
            "text/plain": [
              "<keras.callbacks.History at 0x7f3946bacbd0>"
            ]
          },
          "metadata": {},
          "execution_count": 13
        }
      ]
    },
    {
      "cell_type": "code",
      "source": [
        "model.save('ml_model.h5')"
      ],
      "metadata": {
        "id": "6qt4w-VJFAKW"
      },
      "execution_count": null,
      "outputs": []
    },
    {
      "cell_type": "code",
      "source": [
        "model.save(\"ml_model\")"
      ],
      "metadata": {
        "id": "0K05ogHjE6sj",
        "colab": {
          "base_uri": "https://localhost:8080/",
          "height": 171
        },
        "outputId": "1495c701-cbd1-4262-e3ff-2e3c7d6e8da1"
      },
      "execution_count": null,
      "outputs": [
        {
          "output_type": "error",
          "ename": "NameError",
          "evalue": "ignored",
          "traceback": [
            "\u001b[0;31m---------------------------------------------------------------------------\u001b[0m",
            "\u001b[0;31mNameError\u001b[0m                                 Traceback (most recent call last)",
            "\u001b[0;32m<ipython-input-11-dc48174d76aa>\u001b[0m in \u001b[0;36m<module>\u001b[0;34m()\u001b[0m\n\u001b[0;32m----> 1\u001b[0;31m \u001b[0mmodel\u001b[0m\u001b[0;34m.\u001b[0m\u001b[0msave\u001b[0m\u001b[0;34m(\u001b[0m\u001b[0mML_model\u001b[0m\u001b[0;34m)\u001b[0m\u001b[0;34m\u001b[0m\u001b[0;34m\u001b[0m\u001b[0m\n\u001b[0m",
            "\u001b[0;31mNameError\u001b[0m: name 'ML_model' is not defined"
          ]
        }
      ]
    },
    {
      "cell_type": "code",
      "source": [
        ""
      ],
      "metadata": {
        "id": "P1DBg0ohFFew"
      },
      "execution_count": null,
      "outputs": []
    }
  ]
}