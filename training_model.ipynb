{
  "nbformat": 4,
  "nbformat_minor": 0,
  "metadata": {
    "colab": {
      "name": "Fresh/rotten model",
      "provenance": [],
      "collapsed_sections": [],
      "toc_visible": true,
      "authorship_tag": "ABX9TyMmRlJ40EvsXK94gP8/JaHO",
      "include_colab_link": true
    },
    "kernelspec": {
      "name": "python3",
      "display_name": "Python 3"
    },
    "language_info": {
      "name": "python"
    },
    "accelerator": "GPU"
  },
  "cells": [
    {
      "cell_type": "markdown",
      "metadata": {
        "id": "view-in-github",
        "colab_type": "text"
      },
      "source": [
        "<a href=\"https://colab.research.google.com/github/Shreyasvaidya/Fresh-rotten_Classifier/blob/master/training_model.ipynb\" target=\"_parent\"><img src=\"https://colab.research.google.com/assets/colab-badge.svg\" alt=\"Open In Colab\"/></a>"
      ]
    },
    {
      "cell_type": "code",
      "execution_count": null,
      "metadata": {
        "id": "8eDH2ps11kxz"
      },
      "outputs": [],
      "source": [
        "import tensorflow as tf\n",
        "from tensorflow.keras.models import Sequential\n",
        "from tensorflow.keras.layers import Dense,Flatten,Activation,Conv2D,MaxPooling2D\n",
        "import pickle\n",
        "import numpy as np"
      ]
    },
    {
      "cell_type": "markdown",
      "source": [
        "importing libraries"
      ],
      "metadata": {
        "id": "VTJWaVRV2BHc"
      }
    },
    {
      "cell_type": "code",
      "source": [
        ""
      ],
      "metadata": {
        "id": "EcE0ejj4ZFMD"
      },
      "execution_count": null,
      "outputs": []
    },
    {
      "cell_type": "code",
      "source": [
        "\n",
        "from google.colab import drive\n",
        "\n",
        "drive.mount('/content/drive',force_remount=True)\n",
        "DATA_PATH = \"/content/drive/My Drive/Colab Notebooks\"\n",
        "infile = open(DATA_PATH+'/X.pickle','rb')\n",
        "X= pickle.load(infile)\n"
      ],
      "metadata": {
        "colab": {
          "base_uri": "https://localhost:8080/"
        },
        "id": "0x1bgULY2DNp",
        "outputId": "5e5a8e2b-83c6-47d2-f089-2cc8461e3f5b"
      },
      "execution_count": null,
      "outputs": [
        {
          "output_type": "stream",
          "name": "stdout",
          "text": [
            "Mounted at /content/drive\n"
          ]
        }
      ]
    },
    {
      "cell_type": "markdown",
      "source": [
        "importing X.pickle we created in previous notebook"
      ],
      "metadata": {
        "id": "DOnHgn7e2m46"
      }
    },
    {
      "cell_type": "code",
      "source": [
        "infile = open(DATA_PATH+'/y.pickle','rb')  \n",
        "y= pickle.load(infile)"
      ],
      "metadata": {
        "id": "uPA6iN472uEM"
      },
      "execution_count": null,
      "outputs": []
    },
    {
      "cell_type": "markdown",
      "source": [
        "importing y"
      ],
      "metadata": {
        "id": "m7qgi4IV2zTw"
      }
    },
    {
      "cell_type": "code",
      "source": [
        "X=X/255"
      ],
      "metadata": {
        "id": "DrBNM9Gb21rX"
      },
      "execution_count": null,
      "outputs": []
    },
    {
      "cell_type": "code",
      "source": [
        "print(X[1])"
      ],
      "metadata": {
        "id": "IGvZ-fTZXZPC"
      },
      "execution_count": null,
      "outputs": []
    },
    {
      "cell_type": "markdown",
      "source": [
        "normalising X for easier training (since values in X are b/w 0 to 255 so we can do this"
      ],
      "metadata": {
        "id": "XRkQ4p-d23Hv"
      }
    },
    {
      "cell_type": "code",
      "source": [
        "model=Sequential()\n",
        "\n",
        "model.add(Conv2D(256, (3, 3), input_shape=X.shape[1:]))\n",
        "model.add(Activation(\"relu\"))\n",
        "model.add(MaxPooling2D(pool_size=(2,2)))\n",
        "model.add(Conv2D(256, (3, 3)))\n",
        "model.add(Activation(\"relu\"))\n",
        "model.add(MaxPooling2D(pool_size=(2,2)))\n",
        "model.add(Flatten())\n",
        "model.add(Dense(64))\n",
        "model.add(Activation(\"relu\"))\n",
        "model.add(Dense(12))\n",
        "model.add(Activation('softmax'))\n"
      ],
      "metadata": {
        "id": "c4xUKIMk3CqB"
      },
      "execution_count": null,
      "outputs": []
    },
    {
      "cell_type": "markdown",
      "source": [
        "Adding layers"
      ],
      "metadata": {
        "id": "OD1-skTi5Ee7"
      }
    },
    {
      "cell_type": "code",
      "source": [
        "model.compile(optimizer=\"adam\",\n",
        "              loss=\"sparse_categorical_crossentropy\",\n",
        "              metrics=['accuracy'])"
      ],
      "metadata": {
        "id": "iZchK2-Q5CUc"
      },
      "execution_count": null,
      "outputs": []
    },
    {
      "cell_type": "code",
      "source": [
        "X=np.array(X)\n",
        "y=np.array(y)\n",
        "\n",
        "weights={0:2,1:2,2:10,3:3,4:2,5:3,6:1.366,7:2,8:10,9:3.5,10:2,11:3}"
      ],
      "metadata": {
        "id": "9qTniGqL6OZ5"
      },
      "execution_count": null,
      "outputs": []
    },
    {
      "cell_type": "code",
      "source": [
        "print(max(y))\n"
      ],
      "metadata": {
        "id": "5LuuVKtrCbqV",
        "colab": {
          "base_uri": "https://localhost:8080/"
        },
        "outputId": "c42873ef-bc6f-4b0d-90f9-b40b15544030"
      },
      "execution_count": null,
      "outputs": [
        {
          "output_type": "stream",
          "name": "stdout",
          "text": [
            "12\n"
          ]
        }
      ]
    },
    {
      "cell_type": "markdown",
      "source": [
        "y can be from 0 to 11 but is 1-12"
      ],
      "metadata": {
        "id": "tTorThrJBdPO"
      }
    },
    {
      "cell_type": "code",
      "source": [
        "y-=1"
      ],
      "metadata": {
        "id": "p1QMuyDa-ZUB"
      },
      "execution_count": null,
      "outputs": []
    },
    {
      "cell_type": "code",
      "source": [
        "model.fit(X,y,batch_size=30,epochs=4,validation_split=0.2,class_weight=weights)"
      ],
      "metadata": {
        "colab": {
          "base_uri": "https://localhost:8080/"
        },
        "id": "ycwYWbXn5MWw",
        "outputId": "6063075e-3bbc-4d79-8ceb-2f5ef3ad2a96"
      },
      "execution_count": null,
      "outputs": [
        {
          "output_type": "stream",
          "name": "stdout",
          "text": [
            "Epoch 1/4\n",
            "392/392 [==============================] - 23s 30ms/step - loss: 2.3235 - accuracy: 0.6648 - val_loss: 0.4604 - val_accuracy: 0.8212\n",
            "Epoch 2/4\n",
            "392/392 [==============================] - 11s 29ms/step - loss: 0.7457 - accuracy: 0.8769 - val_loss: 0.3085 - val_accuracy: 0.8951\n",
            "Epoch 3/4\n",
            "392/392 [==============================] - 11s 29ms/step - loss: 0.6368 - accuracy: 0.8949 - val_loss: 0.4638 - val_accuracy: 0.8287\n",
            "Epoch 4/4\n",
            "392/392 [==============================] - 11s 28ms/step - loss: 0.4210 - accuracy: 0.9234 - val_loss: 0.2332 - val_accuracy: 0.9166\n"
          ]
        },
        {
          "output_type": "execute_result",
          "data": {
            "text/plain": [
              "<keras.callbacks.History at 0x7f3110037ed0>"
            ]
          },
          "metadata": {},
          "execution_count": 9
        }
      ]
    },
    {
      "cell_type": "code",
      "source": [
        "model.save('ml_model.h5')"
      ],
      "metadata": {
        "id": "6qt4w-VJFAKW"
      },
      "execution_count": null,
      "outputs": []
    },
    {
      "cell_type": "code",
      "source": [
        ""
      ],
      "metadata": {
        "id": "P1DBg0ohFFew"
      },
      "execution_count": null,
      "outputs": []
    }
  ]
}